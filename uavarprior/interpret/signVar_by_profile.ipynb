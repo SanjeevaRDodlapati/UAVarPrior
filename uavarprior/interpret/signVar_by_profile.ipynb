{
 "cells": [
  {
   "cell_type": "code",
   "execution_count": 2,
   "id": "7f864190",
   "metadata": {},
   "outputs": [],
   "source": [
    "import os\n",
    "import pandas as pd"
   ]
  },
  {
   "cell_type": "code",
   "execution_count": 3,
   "id": "0772f5ee",
   "metadata": {},
   "outputs": [
    {
     "data": {
      "text/plain": [
       "148"
      ]
     },
     "execution_count": 3,
     "metadata": {},
     "output_type": "execute_result"
    }
   ],
   "source": [
    "group = 1\n",
    "inPath = f'/home/sdodl001/Desktop/DNA_Methylation_Scripts/cpg_util_scripts/data/kmeans/uncert_gve_direction/{group}/pred200_merged/'\n",
    "files = os.listdir(inPath)\n",
    "files.sort()\n",
    "len(files)"
   ]
  },
  {
   "cell_type": "code",
   "execution_count": 6,
   "id": "2b1f90e2",
   "metadata": {},
   "outputs": [
    {
     "name": "stdout",
     "output_type": "stream",
     "text": [
      "Processed 10/148 files. Current unique names: 3645640\n",
      "Processed 20/148 files. Current unique names: 4195255\n",
      "Processed 30/148 files. Current unique names: 4554064\n",
      "Processed 40/148 files. Current unique names: 4695465\n",
      "Processed 50/148 files. Current unique names: 4931860\n",
      "Processed 60/148 files. Current unique names: 5099470\n",
      "Processed 70/148 files. Current unique names: 5138015\n",
      "Processed 80/148 files. Current unique names: 5149679\n",
      "Processed 90/148 files. Current unique names: 5257657\n",
      "Processed 100/148 files. Current unique names: 7958108\n",
      "Processed 110/148 files. Current unique names: 8837202\n",
      "Processed 120/148 files. Current unique names: 9015023\n",
      "Processed 130/148 files. Current unique names: 9120615\n",
      "Processed 140/148 files. Current unique names: 10246896\n",
      "Processed 148/148 files. Current unique names: 10358075\n",
      "\n",
      "Total unique names collected: 10358075\n",
      "Memory used by unique_names set: 114.34 MB\n"
     ]
    },
    {
     "data": {
      "text/plain": [
       "['rs567865040', 'rs1426319946', 'rs927581744', 'rs1038629972', 'rs928388916']"
      ]
     },
     "execution_count": 6,
     "metadata": {},
     "output_type": "execute_result"
    }
   ],
   "source": [
    "# Initialize an empty set to store unique name values\n",
    "unique_names = set()\n",
    "\n",
    "# Track progress\n",
    "total_files = len(files)\n",
    "processed = 0\n",
    "\n",
    "# Process files in batches to avoid memory issues\n",
    "for file in files:\n",
    "    try:\n",
    "        # Only load the 'name' column to minimize memory usage\n",
    "        data = pd.read_parquet(inPath + file, columns=['name'])\n",
    "        \n",
    "        # Update the set with new unique values\n",
    "        unique_names.update(data['name'])\n",
    "        \n",
    "        # Update and display progress\n",
    "        processed += 1\n",
    "        if processed % 10 == 0 or processed == total_files:\n",
    "            print(f\"Processed {processed}/{total_files} files. Current unique names: {len(unique_names)}\")\n",
    "            \n",
    "    except Exception as e:\n",
    "        print(f\"Error processing {file}: {str(e)}\")\n",
    "\n",
    "print(f\"\\nTotal unique names collected: {len(unique_names)}\")\n",
    "print(f\"Memory used by unique_names set: {sum(len(name) for name in unique_names) / (1024*1024):.2f} MB\")\n",
    "\n",
    "# Preview some unique names (first 5)\n",
    "list(unique_names)[:5] if unique_names else \"No unique names found\""
   ]
  },
  {
   "cell_type": "code",
   "execution_count": null,
   "id": "20d65b45",
   "metadata": {},
   "outputs": [],
   "source": []
  }
 ],
 "metadata": {
  "kernelspec": {
   "display_name": "fugep",
   "language": "python",
   "name": "python3"
  },
  "language_info": {
   "codemirror_mode": {
    "name": "ipython",
    "version": 3
   },
   "file_extension": ".py",
   "mimetype": "text/x-python",
   "name": "python",
   "nbconvert_exporter": "python",
   "pygments_lexer": "ipython3",
   "version": "3.10.13"
  }
 },
 "nbformat": 4,
 "nbformat_minor": 5
}
